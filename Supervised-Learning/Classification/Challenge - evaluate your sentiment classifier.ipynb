{
 "cells": [
  {
   "cell_type": "markdown",
   "metadata": {},
   "source": [
    "# Sentiment Classifier Evaluation"
   ]
  },
  {
   "cell_type": "markdown",
   "metadata": {},
   "source": [
    "# Goal:\n",
    "\n",
    "My goal in this challenge is to compare the performance of the orginal classifier against five different versions.\n",
    "\n",
    "I will use the IMDB dataset from the UC Irvine's [Sentiment Labelled Sentences](https://archive.ics.uci.edu/ml/datasets/Sentiment+Labelled+Sentences), to iterate features and tune parameters of our data.\n",
    "\n",
    "**Questions**\n",
    "\n",
    "- Do any of your classifiers seem to overfit?\n",
    "- Which seem to perform the best? Why?\n",
    "- Which features seemed to be most impactful to performance?"
   ]
  },
  {
   "cell_type": "code",
   "execution_count": 2,
   "metadata": {},
   "outputs": [],
   "source": [
    "# Loading the packages\n",
    "%matplotlib inline\n",
    "import numpy as np\n",
    "import pandas as pd\n",
    "import scipy\n",
    "import sklearn\n",
    "import matplotlib.pyplot as plt\n",
    "import seaborn as sns"
   ]
  },
  {
   "cell_type": "code",
   "execution_count": 3,
   "metadata": {},
   "outputs": [],
   "source": [
    "import os \n",
    "path = \"/home/kaneeshadawood/imdb_labelled.txt\""
   ]
  },
  {
   "cell_type": "code",
   "execution_count": 4,
   "metadata": {},
   "outputs": [],
   "source": [
    "# Loading the dataset:\n",
    "data_path = (\"/home/kaneeshadawood/imdb_labelled.txt\")\n",
    "data = pd.read_csv(data_path, delimiter= '\\t', header=None)\n",
    "\n",
    "#Score is either 1 (for positive) or 0 (for negative)\n",
    "data.columns = ['review', 'score']\n",
    "\n",
    "# Let's choose some keywords and add spaces around the key so we're getting the word and not pattern matching.\n",
    "\n",
    "keywords = ['good', 'great', 'fun', 'recommended', 'amazing', 'excellent', 'wonderful', 'adorable', 'decent', 'hilarious',\n",
    "            'right', 'cool', 'awesome', 'interesting', 'superb', 'perfect']\n",
    "\n",
    "for key in keywords:\n",
    "    data[str(key)] = data.review.str.contains(' ' + str(key) + ' ', case=False)\n",
    "    data[str(key)] = data.review.str.contains((str(key) + ' '), case=False)\n",
    "    data[str(key)] = data.review.str.contains((' ' + str(key)), case=False)\n",
    "    \n",
    "# Let's find if all the reviews are uppercase:\n",
    "data['allcaps'] = data.review.str.isupper() \n",
    "\n",
    "# Let's now convert the score columns into a Boolean value to perform statistics:\n",
    "data['score'] = (data['score'] == 1)"
   ]
  },
  {
   "cell_type": "code",
   "execution_count": 5,
   "metadata": {},
   "outputs": [
    {
     "data": {
      "text/plain": [
       "<matplotlib.axes._subplots.AxesSubplot at 0x7a537498dda0>"
      ]
     },
     "execution_count": 5,
     "metadata": {},
     "output_type": "execute_result"
    },
    {
     "data": {
      "image/png": "[encoded data removed]",
      "text/plain": [
       "<Figure size 432x288 with 2 Axes>"
      ]
     },
     "metadata": {
      "needs_background": "light"
     },
     "output_type": "display_data"
    }
   ],
   "source": [
    "sns.heatmap(data.corr())"
   ]
  },
  {
   "cell_type": "code",
   "execution_count": 6,
   "metadata": {},
   "outputs": [
    {
     "name": "stdout",
     "output_type": "stream",
     "text": [
      "Number of mislabeled points out of a total 748 points : 274\n"
     ]
    }
   ],
   "source": [
    "# Using the titles 'value' and 'target' to specify x and y variables\n",
    "\n",
    "value = data[keywords + ['allcaps']]\n",
    "target = data['score']\n",
    "\n",
    "# Our data is binary / boolean, so we're importing the Bernoulli classifier.\n",
    "from sklearn.naive_bayes import BernoulliNB\n",
    "\n",
    "# Instantiate our model and store it in a new variable.\n",
    "bnb = BernoulliNB()\n",
    "\n",
    "# Fit our model to the data.\n",
    "bnb.fit(value, target)\n",
    "\n",
    "# Classify, storing the result in a new variable.\n",
    "y_pred = bnb.predict(value)\n",
    "\n",
    "# Display our results.\n",
    "print(\"Number of mislabeled points out of a total {} points : {}\".format(\n",
    "    data.shape[0],\n",
    "    (target != y_pred).sum()\n",
    "))"
   ]
  },
  {
   "cell_type": "markdown",
   "metadata": {},
   "source": [
    "Given that there are 295 mislabelled points in our dataset, let us now calculate the accuracy score of our model to analyze the performance of the classifier. "
   ]
  },
  {
   "cell_type": "code",
   "execution_count": 7,
   "metadata": {},
   "outputs": [
    {
     "data": {
      "text/plain": [
       "0.6336898395721925"
      ]
     },
     "execution_count": 7,
     "metadata": {},
     "output_type": "execute_result"
    }
   ],
   "source": [
    "# Calculating the accuracy of the model:\n",
    "from sklearn.metrics import accuracy_score\n",
    "\n",
    "accuracy_score(target, y_pred)"
   ]
  },
  {
   "cell_type": "markdown",
   "metadata": {},
   "source": [
    "Now, let's assign new features to analyze the performance of our classifier through the confusion matrix."
   ]
  },
  {
   "cell_type": "code",
   "execution_count": 8,
   "metadata": {},
   "outputs": [
    {
     "data": {
      "text/plain": [
       "array([[338,  24],\n",
       "       [250, 136]])"
      ]
     },
     "execution_count": 8,
     "metadata": {},
     "output_type": "execute_result"
    }
   ],
   "source": [
    "from sklearn.metrics import confusion_matrix\n",
    "confusion_matrix(target, y_pred)"
   ]
  },
  {
   "cell_type": "markdown",
   "metadata": {},
   "source": [
    "Here we learn that 250 out of 274 errors are incorrectly classified messages. \n",
    "\n",
    "Let us now dive into calculating the sensitivity and specificity of our classifier."
   ]
  },
  {
   "cell_type": "code",
   "execution_count": 9,
   "metadata": {},
   "outputs": [],
   "source": [
    "TP = 0\n",
    "FP = 0\n",
    "TN = 0\n",
    "FN = 0\n",
    "for i in range(len(y_pred)): \n",
    "        if target[i]==y_pred[i]==1:\n",
    "           TP += 1\n",
    "        if y_pred[i]==1 and target[i]!=y_pred[i]:\n",
    "           FP += 1\n",
    "        if target[i]==y_pred[i]==0:\n",
    "           TN += 1\n",
    "        if y_pred[i]==0 and target[i]!=y_pred[i]:\n",
    "           FN += 1"
   ]
  },
  {
   "cell_type": "code",
   "execution_count": 10,
   "metadata": {},
   "outputs": [
    {
     "name": "stdout",
     "output_type": "stream",
     "text": [
      "Sensitivity is: 35.233160621761655\n"
     ]
    }
   ],
   "source": [
    "#Sensitivity - positive correctly identified:\n",
    "target_pos = 0\n",
    "for i in range(len(target)): \n",
    "        if target[i]== 1:\n",
    "           target_pos += 1\n",
    "print('Sensitivity is: {}'.format(100*TP/target_pos))"
   ]
  },
  {
   "cell_type": "code",
   "execution_count": 11,
   "metadata": {},
   "outputs": [
    {
     "name": "stdout",
     "output_type": "stream",
     "text": [
      "accuracy is: 63.36898395721925\n"
     ]
    }
   ],
   "source": [
    "print('accuracy is: {}'.format((TN+TP)*100/(TP+TN+FP+FN)))"
   ]
  },
  {
   "cell_type": "code",
   "execution_count": 12,
   "metadata": {},
   "outputs": [
    {
     "name": "stdout",
     "output_type": "stream",
     "text": [
      "Specificity is: 93.37016574585635\n"
     ]
    }
   ],
   "source": [
    "#Specificity - negatives correctly identified\n",
    "target_neg = 0\n",
    "for i in range(len(target)): \n",
    "        if target[i]== 0:\n",
    "           target_neg += 1\n",
    "print('Specificity is: {}'.format(100*TN/target_neg))"
   ]
  },
  {
   "cell_type": "markdown",
   "metadata": {},
   "source": [
    "**Holdout Groups**"
   ]
  },
  {
   "cell_type": "code",
   "execution_count": 13,
   "metadata": {},
   "outputs": [
    {
     "name": "stdout",
     "output_type": "stream",
     "text": [
      "With 50% Holdout: 0.6\n",
      "Testing on Sample: 0.6336898395721925\n"
     ]
    }
   ],
   "source": [
    "# Test your model with different holdout groups.\n",
    "\n",
    "from sklearn.model_selection import train_test_split\n",
    "# Use train_test_split to create the necessary training and test groups\n",
    "X_train, X_test, y_train, y_test = train_test_split(value, target, test_size=0.2, random_state=20)\n",
    "print('With 50% Holdout: ' + str(bnb.fit(X_train, y_train).score(X_test, y_test)))\n",
    "print('Testing on Sample: ' + str(bnb.fit(value, target).score(value, target)))\n"
   ]
  },
  {
   "cell_type": "markdown",
   "metadata": {},
   "source": [
    "**Cross Validation**"
   ]
  },
  {
   "cell_type": "code",
   "execution_count": 14,
   "metadata": {},
   "outputs": [
    {
     "data": {
      "text/plain": [
       "array([0.61842105, 0.59210526, 0.64      , 0.65333333, 0.64      ,\n",
       "       0.64      , 0.63513514, 0.60810811, 0.60810811, 0.60810811])"
      ]
     },
     "execution_count": 14,
     "metadata": {},
     "output_type": "execute_result"
    }
   ],
   "source": [
    "from sklearn.model_selection import cross_val_score\n",
    "cross_val_score(bnb, value, target, cv=10)"
   ]
  },
  {
   "cell_type": "markdown",
   "metadata": {},
   "source": [
    "Now let's try identifying the negative messages instead of the positives."
   ]
  },
  {
   "cell_type": "code",
   "execution_count": 15,
   "metadata": {},
   "outputs": [],
   "source": [
    "negatives = ['bad', 'terrible', 'dissapointed', 'worse', 'worst', 'sad', 'broken','damaged', 'defective', 'slow', 'problems', 'wasted',\n",
    "             'hate', 'unacceptible']\n",
    "\n",
    "for i in negatives:\n",
    "    data[str(i)] = data.review.str.contains((' ' + str(i) + ' '), case=False)\n",
    "    data[str(i)] = data.review.str.contains((str(i) + ' '), case=False)\n",
    "    data[str(i)] = data.review.str.contains((' ' + str(i)), case=False)\n",
    "    data[str(i)] = data.review.str.contains((str(i)), case=False)"
   ]
  },
  {
   "cell_type": "code",
   "execution_count": 16,
   "metadata": {},
   "outputs": [
    {
     "data": {
      "text/html": [
       "<div>\n",
       "<style scoped>\n",
       "    .dataframe tbody tr th:only-of-type {\n",
       "        vertical-align: middle;\n",
       "    }\n",
       "\n",
       "    .dataframe tbody tr th {\n",
       "        vertical-align: top;\n",
       "    }\n",
       "\n",
       "    .dataframe thead th {\n",
       "        text-align: right;\n",
       "    }\n",
       "</style>\n",
       "<table border=\"1\" class=\"dataframe\">\n",
       "  <thead>\n",
       "    <tr style=\"text-align: right;\">\n",
       "      <th></th>\n",
       "      <th>review</th>\n",
       "      <th>score</th>\n",
       "      <th>good</th>\n",
       "      <th>great</th>\n",
       "      <th>fun</th>\n",
       "      <th>recommended</th>\n",
       "      <th>amazing</th>\n",
       "      <th>excellent</th>\n",
       "      <th>wonderful</th>\n",
       "      <th>adorable</th>\n",
       "      <th>...</th>\n",
       "      <th>worst</th>\n",
       "      <th>sad</th>\n",
       "      <th>broken</th>\n",
       "      <th>damaged</th>\n",
       "      <th>defective</th>\n",
       "      <th>slow</th>\n",
       "      <th>problems</th>\n",
       "      <th>wasted</th>\n",
       "      <th>hate</th>\n",
       "      <th>unacceptible</th>\n",
       "    </tr>\n",
       "  </thead>\n",
       "  <tbody>\n",
       "    <tr>\n",
       "      <td>0</td>\n",
       "      <td>A very, very, very slow-moving, aimless movie ...</td>\n",
       "      <td>True</td>\n",
       "      <td>False</td>\n",
       "      <td>False</td>\n",
       "      <td>False</td>\n",
       "      <td>False</td>\n",
       "      <td>False</td>\n",
       "      <td>False</td>\n",
       "      <td>False</td>\n",
       "      <td>False</td>\n",
       "      <td>...</td>\n",
       "      <td>False</td>\n",
       "      <td>False</td>\n",
       "      <td>False</td>\n",
       "      <td>False</td>\n",
       "      <td>False</td>\n",
       "      <td>True</td>\n",
       "      <td>False</td>\n",
       "      <td>False</td>\n",
       "      <td>False</td>\n",
       "      <td>False</td>\n",
       "    </tr>\n",
       "    <tr>\n",
       "      <td>1</td>\n",
       "      <td>Not sure who was more lost - the flat characte...</td>\n",
       "      <td>True</td>\n",
       "      <td>False</td>\n",
       "      <td>False</td>\n",
       "      <td>False</td>\n",
       "      <td>False</td>\n",
       "      <td>False</td>\n",
       "      <td>False</td>\n",
       "      <td>False</td>\n",
       "      <td>False</td>\n",
       "      <td>...</td>\n",
       "      <td>False</td>\n",
       "      <td>False</td>\n",
       "      <td>False</td>\n",
       "      <td>False</td>\n",
       "      <td>False</td>\n",
       "      <td>False</td>\n",
       "      <td>False</td>\n",
       "      <td>False</td>\n",
       "      <td>False</td>\n",
       "      <td>False</td>\n",
       "    </tr>\n",
       "    <tr>\n",
       "      <td>2</td>\n",
       "      <td>Attempting artiness with black &amp; white and cle...</td>\n",
       "      <td>True</td>\n",
       "      <td>False</td>\n",
       "      <td>False</td>\n",
       "      <td>False</td>\n",
       "      <td>False</td>\n",
       "      <td>False</td>\n",
       "      <td>False</td>\n",
       "      <td>False</td>\n",
       "      <td>False</td>\n",
       "      <td>...</td>\n",
       "      <td>False</td>\n",
       "      <td>False</td>\n",
       "      <td>False</td>\n",
       "      <td>False</td>\n",
       "      <td>False</td>\n",
       "      <td>False</td>\n",
       "      <td>False</td>\n",
       "      <td>False</td>\n",
       "      <td>False</td>\n",
       "      <td>False</td>\n",
       "    </tr>\n",
       "    <tr>\n",
       "      <td>3</td>\n",
       "      <td>Very little music or anything to speak of.</td>\n",
       "      <td>True</td>\n",
       "      <td>False</td>\n",
       "      <td>False</td>\n",
       "      <td>False</td>\n",
       "      <td>False</td>\n",
       "      <td>False</td>\n",
       "      <td>False</td>\n",
       "      <td>False</td>\n",
       "      <td>False</td>\n",
       "      <td>...</td>\n",
       "      <td>False</td>\n",
       "      <td>False</td>\n",
       "      <td>False</td>\n",
       "      <td>False</td>\n",
       "      <td>False</td>\n",
       "      <td>False</td>\n",
       "      <td>False</td>\n",
       "      <td>False</td>\n",
       "      <td>False</td>\n",
       "      <td>False</td>\n",
       "    </tr>\n",
       "    <tr>\n",
       "      <td>4</td>\n",
       "      <td>The best scene in the movie was when Gerardo i...</td>\n",
       "      <td>False</td>\n",
       "      <td>False</td>\n",
       "      <td>False</td>\n",
       "      <td>False</td>\n",
       "      <td>False</td>\n",
       "      <td>False</td>\n",
       "      <td>False</td>\n",
       "      <td>False</td>\n",
       "      <td>False</td>\n",
       "      <td>...</td>\n",
       "      <td>False</td>\n",
       "      <td>False</td>\n",
       "      <td>False</td>\n",
       "      <td>False</td>\n",
       "      <td>False</td>\n",
       "      <td>False</td>\n",
       "      <td>False</td>\n",
       "      <td>False</td>\n",
       "      <td>False</td>\n",
       "      <td>False</td>\n",
       "    </tr>\n",
       "  </tbody>\n",
       "</table>\n",
       "<p>5 rows × 33 columns</p>\n",
       "</div>"
      ],
      "text/plain": [
       "                                              review  score   good  great  \\\n",
       "0  A very, very, very slow-moving, aimless movie ...   True  False  False   \n",
       "1  Not sure who was more lost - the flat characte...   True  False  False   \n",
       "2  Attempting artiness with black & white and cle...   True  False  False   \n",
       "3       Very little music or anything to speak of.     True  False  False   \n",
       "4  The best scene in the movie was when Gerardo i...  False  False  False   \n",
       "\n",
       "     fun  recommended  amazing  excellent  wonderful  adorable  ...  worst  \\\n",
       "0  False        False    False      False      False     False  ...  False   \n",
       "1  False        False    False      False      False     False  ...  False   \n",
       "2  False        False    False      False      False     False  ...  False   \n",
       "3  False        False    False      False      False     False  ...  False   \n",
       "4  False        False    False      False      False     False  ...  False   \n",
       "\n",
       "     sad  broken  damaged  defective   slow  problems  wasted   hate  \\\n",
       "0  False   False    False      False   True     False   False  False   \n",
       "1  False   False    False      False  False     False   False  False   \n",
       "2  False   False    False      False  False     False   False  False   \n",
       "3  False   False    False      False  False     False   False  False   \n",
       "4  False   False    False      False  False     False   False  False   \n",
       "\n",
       "   unacceptible  \n",
       "0         False  \n",
       "1         False  \n",
       "2         False  \n",
       "3         False  \n",
       "4         False  \n",
       "\n",
       "[5 rows x 33 columns]"
      ]
     },
     "execution_count": 16,
     "metadata": {},
     "output_type": "execute_result"
    }
   ],
   "source": [
    "data['score'] = (data['score'] == 0)\n",
    "data.head()"
   ]
  },
  {
   "cell_type": "code",
   "execution_count": 17,
   "metadata": {},
   "outputs": [
    {
     "data": {
      "text/plain": [
       "<matplotlib.axes._subplots.AxesSubplot at 0x7a5367ac57f0>"
      ]
     },
     "execution_count": 17,
     "metadata": {},
     "output_type": "execute_result"
    },
    {
     "data": {
      "image/png": "[encoded data removed]",
      "text/plain": [
       "<Figure size 432x288 with 2 Axes>"
      ]
     },
     "metadata": {
      "needs_background": "light"
     },
     "output_type": "display_data"
    }
   ],
   "source": [
    "sns.heatmap(data.corr())"
   ]
  },
  {
   "cell_type": "code",
   "execution_count": 19,
   "metadata": {},
   "outputs": [
    {
     "name": "stdout",
     "output_type": "stream",
     "text": [
      "Number of mislabeled points out of a total 748 points : 287\n"
     ]
    }
   ],
   "source": [
    "value_n = data[negatives]\n",
    "target_n = data['score']\n",
    "\n",
    "# Instantiate our model and store it in a new variable.\n",
    "bnb_n = BernoulliNB()\n",
    "# Fit our model to the data.\n",
    "bnb_n.fit(value_n, target_n)\n",
    "# Classify, storing the result in a new variable.\n",
    "y_pred_n = bnb_n.predict(value_n)\n",
    "\n",
    "# Display our results.\n",
    "print(\"Number of mislabeled points out of a total {} points : {}\".format(\n",
    "    value_n.shape[0],\n",
    "    (target_n != y_pred_n).sum()\n",
    "))"
   ]
  },
  {
   "cell_type": "code",
   "execution_count": 20,
   "metadata": {},
   "outputs": [
    {
     "data": {
      "text/plain": [
       "array([[377,   9],\n",
       "       [278,  84]])"
      ]
     },
     "execution_count": 20,
     "metadata": {},
     "output_type": "execute_result"
    }
   ],
   "source": [
    "# Confusion Matrix\n",
    "confusion_matrix(target_n, y_pred_n)"
   ]
  },
  {
   "cell_type": "code",
   "execution_count": 21,
   "metadata": {},
   "outputs": [],
   "source": [
    "TP_n = 0\n",
    "FP_n = 0\n",
    "TN_n = 0\n",
    "FN_n = 0\n",
    "for i in range(len(y_pred_n)): \n",
    "        if target_n[i]==y_pred_n[i]==0:\n",
    "           TP_n += 1\n",
    "        if y_pred_n[i]==1 and target_n[i]!=y_pred_n[i]:\n",
    "           FP_n += 1\n",
    "        if target_n[i]==y_pred_n[i]==1:\n",
    "           TN_n += 1\n",
    "        if y_pred_n[i]==0 and target_n[i]!=y_pred_n[i]:\n",
    "           FN_n += 1"
   ]
  },
  {
   "cell_type": "code",
   "execution_count": 22,
   "metadata": {},
   "outputs": [
    {
     "name": "stdout",
     "output_type": "stream",
     "text": [
      "Sensitivity is: 104.14364640883979\n"
     ]
    }
   ],
   "source": [
    "#Sensitivity - positive correctly identified:\n",
    "target_pos_n = 0\n",
    "for i in range(len(target_n)): \n",
    "        if target_n[i]== 1:\n",
    "           target_pos_n += 1\n",
    "print('Sensitivity is: {}'.format(100*TP_n/target_pos_n))"
   ]
  },
  {
   "cell_type": "code",
   "execution_count": 23,
   "metadata": {},
   "outputs": [
    {
     "data": {
      "text/plain": [
       "0.3663101604278075"
      ]
     },
     "execution_count": 23,
     "metadata": {},
     "output_type": "execute_result"
    }
   ],
   "source": [
    "# Accuracy Score\n",
    "accuracy_score(target, y_pred)"
   ]
  },
  {
   "cell_type": "code",
   "execution_count": 24,
   "metadata": {},
   "outputs": [
    {
     "name": "stdout",
     "output_type": "stream",
     "text": [
      "Specificity is: 23.204419889502763\n"
     ]
    }
   ],
   "source": [
    "#Specificity - negatives correctly identified\n",
    "#Score is either 1 (for positive) or 0 (for negative)\n",
    "target_neg_n = 0\n",
    "for i in range(len(target_n)): \n",
    "        if target_n[i]== 1:\n",
    "           target_neg_n += 1\n",
    "print('Specificity is: {}'.format(100*TN_n/target_neg_n))"
   ]
  },
  {
   "cell_type": "markdown",
   "metadata": {},
   "source": [
    "# Summary\n",
    "\n",
    "- Accuracy for positive keywords are 63.4% whereas, bad reviews show an accuracy of 36.7%\n",
    "\n",
    "- Our first model gives a higher specificity score (93.4%) than our second model (23.2%). The second model is more sensitive than the first model (104.14% > 23.2%)"
   ]
  }
 ],
 "metadata": {
  "kernelspec": {
   "display_name": "Python 3",
   "language": "python",
   "name": "python3"
  },
  "language_info": {
   "codemirror_mode": {
    "name": "ipython",
    "version": 3
   },
   "file_extension": ".py",
   "mimetype": "text/x-python",
   "name": "python",
   "nbconvert_exporter": "python",
   "pygments_lexer": "ipython3",
   "version": "3.5.3"
  }
 },
 "nbformat": 4,
 "nbformat_minor": 2
}
