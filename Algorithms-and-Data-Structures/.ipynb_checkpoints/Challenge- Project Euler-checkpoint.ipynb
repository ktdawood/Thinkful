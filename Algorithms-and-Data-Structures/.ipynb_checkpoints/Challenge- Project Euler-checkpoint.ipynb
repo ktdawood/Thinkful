{
 "cells": [
  {
   "cell_type": "markdown",
   "metadata": {},
   "source": [
    "# Project Euler\n",
    "\n",
    "Now that you’ve learned a little bit about algorithms and written some really simple but essential code, it’s time to put those skills to the test. There is one resource above all that helps data scientists and other engineers practice their mathematical programming skills: Project Euler.\n",
    "\n",
    "Project Euler is a fantastic set of mathematical programming problems. Use the skills we’ve discussed here to find efficient solutions to the first 10 problems. Once you’ve found your own solutions look around the web for others’ Python solutions to see other ways people have approached these problems.\n",
    "\n",
    "It’s a good idea to come back to Project Euler and continue to work through these problems. They are a really great way to sharpen your mathematical programming."
   ]
  }
 ],
 "metadata": {
  "kernelspec": {
   "display_name": "Python 3",
   "language": "python",
   "name": "python3"
  },
  "language_info": {
   "codemirror_mode": {
    "name": "ipython",
    "version": 3
   },
   "file_extension": ".py",
   "mimetype": "text/x-python",
   "name": "python",
   "nbconvert_exporter": "python",
   "pygments_lexer": "ipython3",
   "version": "3.7.3"
  }
 },
 "nbformat": 4,
 "nbformat_minor": 4
}
