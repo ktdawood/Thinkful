{
 "cells": [
  {
   "cell_type": "markdown",
   "metadata": {},
   "source": [
    "# Assignment:"
   ]
  },
  {
   "cell_type": "markdown",
   "metadata": {},
   "source": [
    "**1. Let's assume that you have World Bank data on financial, economic and social indicators for several countries. You want to measure the factors that affect the level of development in these countries. To this end, you decide to use per capita income as a proxy for the development level, which is defined as the national income divided by the population. You want to use some features in your dataset to predict per capita income. Is this task a classification or a regression task? Why?**\n",
    "\n",
    "\n",
    "- This is a regression task, because the target variable is numeric and continuous."
   ]
  },
  {
   "cell_type": "markdown",
   "metadata": {},
   "source": [
    "**2. Which of the following arguments are false and why?**\n",
    "\n",
    "  * OLS is a special type of linear regression models \n",
    "    - FALSE; OLS is an optimization algorithm and not a model.\n",
    "  \n",
    "  * Regression models become useless if they don’t meet the assumptions of linear regression\n",
    "    - FALSE: there are methods to fix the models.\n",
    "    \n",
    "  * Estimation and prediction are the same thing in the context of linear regression models.\n",
    "    - FALSE: Predictiondetermines the unobserved value whereas Estimation determines the coefficients of the             features in the training set.\n",
    "    \n",
    "  * Linear regression is only one kind of regression model. Regression problems can also be solved with other kind     of models like Support Vector Machines or Random Forests.\n",
    "    - TRUE"
   ]
  },
  {
   "cell_type": "markdown",
   "metadata": {},
   "source": [
    "**3. Assume that your project manager wants you to discover which free services your company offers make your customers buy more of your paid services. Formulate this task as a regression problem and write down the potential outcome and features that you’d like to work on.**\n",
    "\n",
    "$$ y = \\alpha + \\beta x + \\theta z $$"
   ]
  }
 ],
 "metadata": {
  "kernelspec": {
   "display_name": "Python 3",
   "language": "python",
   "name": "python3"
  },
  "language_info": {
   "codemirror_mode": {
    "name": "ipython",
    "version": 3
   },
   "file_extension": ".py",
   "mimetype": "text/x-python",
   "name": "python",
   "nbconvert_exporter": "python",
   "pygments_lexer": "ipython3",
   "version": "3.5.3"
  }
 },
 "nbformat": 4,
 "nbformat_minor": 2
}
