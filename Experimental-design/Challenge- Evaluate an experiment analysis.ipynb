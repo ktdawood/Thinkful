{
 "cells": [
  {
   "cell_type": "markdown",
   "metadata": {},
   "source": [
    "# Challenge: Experiment Analysis"
   ]
  },
  {
   "cell_type": "markdown",
   "metadata": {},
   "source": [
    "# Experiment 1\n",
    "\n",
    "The Sith Lords are concerned that their recruiting slogan, \"Give In to Your Anger,\" isn't very effective. Darth Vader develops an alternative slogan, \"Together We Can Rule the Galaxy.\" They compare the slogans on two groups of 50 captured droids each. In one group, Emperor Palpatine delivers the \"Anger\" slogan. In the other, Darth Vader presents the \"Together\" slogan. 20 droids convert to the Dark Side after hearing Palpatine's slogan, while only 5 droids convert after hearing Vader's. The Sith's data scientist concludes that \"Anger\" is a more effective slogan and should continue to be used.\n",
    "\n",
    "Evaluation:\n",
    "\n",
    "- The sample size of the two groups used in this experiment are too small. Even though the groups are given better titles, I would argue that having a bigger sample (perhaps say 100 each per group) would give us an accurate result.\n",
    "\n",
    "- Even though the \"Anger\" slogan performs better than the \"Togther\" slogan, this could be slightly biased upon its observation. \"Anger\" is a verb which arouses the droid to act, whereas \"Together\" is an adverb which doesn't cause any impact. Perhaps we could use the word \"Rule\" instead of \"Together\" to derive better results."
   ]
  },
  {
   "cell_type": "markdown",
   "metadata": {},
   "source": [
    "# Experiment 2\n",
    "\n",
    "In the past, the Jedi have had difficulty with public relations. They send two envoys, Jar Jar Binks and Mace Windu, to four friendly and four unfriendly planets respectively, with the goal of promoting favorable feelings toward the Jedi. Upon their return, the envoys learn that Jar Jar was much more effective than Windu: Over 75% of the people surveyed said their attitudes had become more favorable after speaking with Jar Jar, while only 65% said their attitudes had become more favorable after speaking with Windu. This makes Windu angry, because he is sure that he had a better success rate than Jar Jar on every planet. The Jedi choose Jar Jar to be their representative in the future.\n",
    "\n",
    "Evaluation:\n",
    "\n",
    "It is hard to provide an accurate estimate of this experiment because the sample sizes of Jar Jar and Windu are not explicitly stated. To avoid this bias, we should seperate the two groups into equal samples and then evaluate the success rates."
   ]
  },
  {
   "cell_type": "markdown",
   "metadata": {},
   "source": [
    "# Experiment 3\n",
    "\n",
    "A company with work sites in five different countries has sent you data on employee satisfaction rates for workers in Human Resources and workers in Information Technology. Most HR workers are concentrated in three of the countries, while IT workers are equally distributed across worksites. The company requests a report on satisfaction for each job type. You calculate average job satisfaction for HR and for IT and present the report.\n",
    "\n",
    "Evaluation:\n",
    "\n",
    "There is a bias and misrepresentation in evaluating the satisfaction rates for workers in Human Resources and Information Technology divisions. The experiment clearly states that HR workers are concentrated in three countries whereas IT workers are split across varied worksites. Since, the samples are not grouped equally it is difficult to determine an accurate result. Moreover, there are other variables which contribute to job satisfaction(gender, income, skills) and is not being featured in this experiment. \n",
    "\n",
    "A better way of looking at this experiment is by re-analysing the samples through its key metric:location."
   ]
  },
  {
   "cell_type": "markdown",
   "metadata": {},
   "source": [
    "# Experiment 4\n",
    "\n",
    "When people install the Happy Days Fitness Tracker app, they are asked to \"opt in\" to a data collection scheme where their level of physical activity data is automatically sent to the company for product research purposes. During your interview with the company, they tell you that the app is very effective because after installing the app, the data show that people's activity levels rise steadily.\n",
    "\n",
    "Evaluation:\n",
    "\n",
    "There seems to be a selection bias in this experiment. The data from the \"opt-in\" users are the ones who willingly opted to provide their physical activity to the company. The app does not feature a tool or premium model for those who do not \"opt-in\" in providing their data.\n",
    "\n",
    "To iterate this experiment further, we could create two sample groups to reclassify the \"opt-in\" feature. Both groups should have similar characteristics to provide us with an accurate result."
   ]
  },
  {
   "cell_type": "markdown",
   "metadata": {},
   "source": [
    "# Experiment 5\n",
    "\n",
    "To prevent cheating, a teacher writes three versions of a test. She stacks the three versions together, first all copies of Version A, then all copies of Version B, then all copies of Version C. As students arrive for the exam, each student takes a test. When grading the test, the teacher finds that students who took Version B scored higher than students who took either Version A or Version C. She concludes from this that Version B is easier, and discards it.\n",
    "\n",
    "Evaluation:\n",
    "\n",
    "There might be a problem of not identically selecting the groups of students who receive the tests according to its version in the class.\n",
    "The teacher should give the three versions of the tests to the same number of students. She could also ensure that students are being grouped according to their academic levels."
   ]
  }
 ],
 "metadata": {
  "kernelspec": {
   "display_name": "Python 3",
   "language": "python",
   "name": "python3"
  },
  "language_info": {
   "codemirror_mode": {
    "name": "ipython",
    "version": 3
   },
   "file_extension": ".py",
   "mimetype": "text/x-python",
   "name": "python",
   "nbconvert_exporter": "python",
   "pygments_lexer": "ipython3",
   "version": "3.5.3"
  }
 },
 "nbformat": 4,
 "nbformat_minor": 2
}
